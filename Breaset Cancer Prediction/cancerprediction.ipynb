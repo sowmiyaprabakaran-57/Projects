{
  "nbformat": 4,
  "nbformat_minor": 0,
  "metadata": {
    "colab": {
      "provenance": []
    },
    "kernelspec": {
      "name": "python3",
      "display_name": "Python 3"
    },
    "language_info": {
      "name": "python"
    }
  },
  "cells": [
    {
      "cell_type": "code",
      "source": [
        "# Import necessary libraries\n",
        "import pandas as pd\n",
        "from sklearn.model_selection import train_test_split\n",
        "from sklearn.ensemble import RandomForestClassifier\n",
        "from sklearn.metrics import accuracy_score, precision_score, recall_score, f1_score\n",
        "from sklearn.preprocessing import RobustScaler  # Scaling with robustness to outliers"
      ],
      "metadata": {
        "id": "F5k-sFmiHJJO"
      },
      "execution_count": null,
      "outputs": []
    },
    {
      "cell_type": "markdown",
      "source": [
        "# Breast Cancer Prediction\n"
      ],
      "metadata": {
        "id": "CjdtabNKAB5P"
      }
    },
    {
      "cell_type": "code",
      "source": [
        "# Load the dataset\n",
        "data_path = \"/content/BreastCancer.csv\"  # Update with your CSV file's path\n",
        "df = pd.read_csv(data_path)"
      ],
      "metadata": {
        "id": "WR0FlR_1HNns"
      },
      "execution_count": null,
      "outputs": []
    },
    {
      "cell_type": "code",
      "source": [
        "# Inspecting the data\n",
        "print(\"Columns in the dataset:\", df.columns)"
      ],
      "metadata": {
        "colab": {
          "base_uri": "https://localhost:8080/"
        },
        "id": "dAawKUcfHQZW",
        "outputId": "745cf454-943d-4bfb-f65d-5ac9f48e6a7b"
      },
      "execution_count": null,
      "outputs": [
        {
          "output_type": "stream",
          "name": "stdout",
          "text": [
            "Columns in the dataset: Index(['id', 'diagnosis', 'radius_mean', 'texture_mean', 'perimeter_mean',\n",
            "       'area_mean', 'smoothness_mean', 'compactness_mean', 'concavity_mean',\n",
            "       'concave points_mean', 'symmetry_mean', 'fractal_dimension_mean',\n",
            "       'radius_se', 'texture_se', 'perimeter_se', 'area_se', 'smoothness_se',\n",
            "       'compactness_se', 'concavity_se', 'concave points_se', 'symmetry_se',\n",
            "       'fractal_dimension_se', 'radius_worst', 'texture_worst',\n",
            "       'perimeter_worst', 'area_worst', 'smoothness_worst',\n",
            "       'compactness_worst', 'concavity_worst', 'concave points_worst',\n",
            "       'symmetry_worst', 'fractal_dimension_worst', 'Unnamed: 32'],\n",
            "      dtype='object')\n"
          ]
        }
      ]
    },
    {
      "cell_type": "code",
      "source": [
        "# Ensure the target column is properly named and available\n",
        "target_column = \"diagnosis\"\n",
        "if target_column in df.columns:\n",
        "    print(f\"'{target_column}' column found. Proceeding with data preprocessing.\")\n",
        "else:\n",
        "    raise KeyError(f\"'{target_column}' column not found. Available columns are: {df.columns}\")\n",
        "\n",
        "# Drop rows with missing values in target or features\n",
        "df.dropna(subset=[target_column], inplace=True)"
      ],
      "metadata": {
        "colab": {
          "base_uri": "https://localhost:8080/"
        },
        "id": "JkWTQVvFHU2H",
        "outputId": "1dc8e638-977f-4967-dd99-de279d0c7a81"
      },
      "execution_count": null,
      "outputs": [
        {
          "output_type": "stream",
          "name": "stdout",
          "text": [
            "'diagnosis' column found. Proceeding with data preprocessing.\n"
          ]
        }
      ]
    },
    {
      "cell_type": "code",
      "source": [
        "# Prepare features (X) and target (y)\n",
        "X = df.drop(columns=[target_column, \"Unnamed: 32\"], errors=\"ignore\")\n",
        "y = df[target_column].map({\"M\": 1, \"B\": 0})"
      ],
      "metadata": {
        "id": "X9y7E2YNHX2b"
      },
      "execution_count": null,
      "outputs": []
    },
    {
      "cell_type": "code",
      "source": [
        "# Confirm data integrity after preprocessing\n",
        "print(\"Number of rows before dropping NaNs:\", len(df))\n",
        "print(\"Number of rows after dropping NaNs:\", len(df))\n",
        "print(\"Shape of X (features):\", X.shape)\n",
        "print(\"Shape of y (target):\", y.shape)"
      ],
      "metadata": {
        "colab": {
          "base_uri": "https://localhost:8080/"
        },
        "id": "gRxQHVt_HiGI",
        "outputId": "6ff4e135-98ab-4944-f296-51d072d696b9"
      },
      "execution_count": null,
      "outputs": [
        {
          "output_type": "stream",
          "name": "stdout",
          "text": [
            "Number of rows before dropping NaNs: 569\n",
            "Number of rows after dropping NaNs: 569\n",
            "Shape of X (features): (569, 31)\n",
            "Shape of y (target): (569,)\n"
          ]
        }
      ]
    },
    {
      "cell_type": "code",
      "source": [
        "# Split data into train-test splits\n",
        "X_train, X_test, y_train, y_test = train_test_split(X, y, test_size=0.2, random_state=42)\n",
        "\n",
        "# Scale the features using RobustScaler\n",
        "scaler = RobustScaler()\n",
        "X_train = scaler.fit_transform(X_train)  # Fit scaler on training data\n",
        "X_test = scaler.transform(X_test)  # Apply scaling to testing data"
      ],
      "metadata": {
        "id": "N5KeUt6pHmA0"
      },
      "execution_count": null,
      "outputs": []
    },
    {
      "cell_type": "code",
      "source": [
        "# Train a Random Forest Classifier\n",
        "rf_model = RandomForestClassifier(random_state=42)\n",
        "rf_model.fit(X_train, y_train)\n",
        "\n",
        "# Make predictions\n",
        "y_pred = rf_model.predict(X_test)\n",
        "\n",
        "# Evaluate the model performance\n",
        "accuracy = accuracy_score(y_test, y_pred)\n",
        "precision = precision_score(y_test, y_pred)\n",
        "recall = recall_score(y_test, y_pred)\n",
        "f1 = f1_score(y_test, y_pred)"
      ],
      "metadata": {
        "id": "d98JrIoPHsS9"
      },
      "execution_count": null,
      "outputs": []
    },
    {
      "cell_type": "code",
      "source": [
        "# Print performance metrics\n",
        "print(\"Model Performance Metrics after robust scaling:\")\n",
        "print(f\"Accuracy: {accuracy:.2f}\")\n",
        "print(f\"Precision: {precision:.2f}\")\n",
        "print(f\"Recall: {recall:.2f}\")\n",
        "print(f\"F1 Score: {f1:.2f}\")"
      ],
      "metadata": {
        "id": "uQt7BuDAHwBm",
        "outputId": "c3f3558c-b418-4d2e-fd3f-da150beb72e0",
        "colab": {
          "base_uri": "https://localhost:8080/"
        }
      },
      "execution_count": null,
      "outputs": [
        {
          "output_type": "stream",
          "name": "stdout",
          "text": [
            "Model Performance Metrics after robust scaling:\n",
            "Accuracy: 0.96\n",
            "Precision: 0.98\n",
            "Recall: 0.93\n",
            "F1 Score: 0.95\n"
          ]
        }
      ]
    },
    {
      "cell_type": "code",
      "source": [
        "import pandas as pd\n",
        "from sklearn.svm import SVC\n",
        "from sklearn.model_selection import train_test_split\n",
        "from sklearn.preprocessing import StandardScaler, LabelEncoder\n",
        "\n",
        "# Load the data\n",
        "data = pd.read_csv('/content/BreastCancer.csv')\n",
        "\n",
        "# Preprocess the data\n",
        "data.drop(['id', 'Unnamed: 32'], axis=1, inplace=True)\n",
        "le = LabelEncoder()\n",
        "data['diagnosis'] = le.fit_transform(data['diagnosis'])  # Encode 'Benign' as 0, 'Malignant' as 1\n",
        "\n",
        "# Prepare features and target\n",
        "X = data.iloc[:, 1:31].values  # Feature columns (30 features)\n",
        "y = data['diagnosis'].values  # Target column\n",
        "\n",
        "# Split data into train and test sets\n",
        "X_train, X_test, y_train, y_test = train_test_split(X, y, test_size=0.2, random_state=42)\n",
        "\n",
        "# Scale the features\n",
        "scaler = StandardScaler()\n",
        "X_train_scaled = scaler.fit_transform(X_train)\n",
        "X_test_scaled = scaler.transform(X_test)\n",
        "\n",
        "# Train the SVM Model\n",
        "svm_model = SVC(probability=True, kernel='rbf', C=1, gamma='auto')\n",
        "svm_model.fit(X_train_scaled, y_train)\n",
        "\n",
        "\n",
        "def predict_cancer():\n",
        "    print(\"\\nPlease enter the following details:\")\n",
        "    try:\n",
        "        # Collect user input\n",
        "        mean_radius = float(input(\"Mean Radius value: \"))\n",
        "        mean_texture = float(input(\"Mean Texture value: \"))\n",
        "        mean_perimeter = float(input(\"Mean Perimeter value: \"))\n",
        "        mean_area = float(input(\"Mean Area value: \"))\n",
        "        mean_smoothness = float(input(\"Mean Smoothness value: \"))\n",
        "        mean_compactness = float(input(\"Mean Compactness value: \"))\n",
        "        mean_concavity = float(input(\"Mean Concavity value: \"))\n",
        "        mean_concave_points = float(input(\"Mean Concave Points value: \"))\n",
        "        symmetry = float(input(\"Mean Symmetry value: \"))\n",
        "        fractal_dimension = float(input(\"Fractal Dimension value: \"))\n",
        "\n",
        "        # Create a full input array (fill missing features with zeros)\n",
        "        user_input = [\n",
        "            mean_radius, mean_texture, mean_perimeter, mean_area,\n",
        "            mean_smoothness, mean_compactness, mean_concavity,\n",
        "            mean_concave_points, symmetry, fractal_dimension\n",
        "        ]\n",
        "        # Fill the remaining 20 features with zeros\n",
        "        user_input_full = user_input + [0] * 20\n",
        "\n",
        "        # Reshape and scale user input\n",
        "        user_input_scaled = scaler.transform([user_input_full])\n",
        "\n",
        "        # Make prediction\n",
        "        prediction = svm_model.predict(user_input_scaled)\n",
        "\n",
        "        if prediction[0] == 1:  # Malignant case\n",
        "            print(\"\\nPrediction: Malignant (Cancer Detected)\")\n",
        "            print(\"Advice: You must consult a doctor and take immediate action.\")\n",
        "        else:  # Benign case\n",
        "            print(\"\\nPrediction: Benign (No Cancer Detected)\")\n",
        "            print(\"Advice: Routine health check-ups are sufficient.\")\n",
        "\n",
        "    except Exception as e:\n",
        "        print(f\"Error: {e}. Please ensure to input valid numbers.\")\n",
        "\n",
        "\n",
        "# Call prediction function\n",
        "predict_cancer()\n"
      ],
      "metadata": {
        "colab": {
          "base_uri": "https://localhost:8080/"
        },
        "id": "-FjKc06ZyHEy",
        "outputId": "1f00dd3c-1f74-45ec-9690-53b85d972e39"
      },
      "execution_count": null,
      "outputs": [
        {
          "output_type": "stream",
          "name": "stdout",
          "text": [
            "\n",
            "Please enter the following details:\n",
            "Mean Radius value: 12.5\n",
            "Mean Texture value: 20.0\n",
            "Mean Perimeter value: 90.0\n",
            "Mean Area value: 600.0\n",
            "Mean Smoothness value: 0.12\n",
            "Mean Compactness value: 0.2\n",
            "Mean Concavity value: 0.3\n",
            "Mean Concave Points value: 0.15\n",
            "Mean Symmetry value: 0.1\n",
            "Fractal Dimension value: 0.06\n",
            "\n",
            "Prediction: Malignant (Cancer Detected)\n",
            "Advice: You must consult a doctor and take immediate action.\n"
          ]
        }
      ]
    }
  ]
}